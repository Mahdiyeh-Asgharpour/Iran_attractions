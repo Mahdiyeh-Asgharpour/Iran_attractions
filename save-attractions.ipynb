{
 "cells": [
  {
   "cell_type": "code",
   "execution_count": 1,
   "metadata": {},
   "outputs": [],
   "source": [
    "from selenium import webdriver\n",
    "from selenium.webdriver.firefox.service import Service\n",
    "from selenium.common.exceptions import WebDriverException\n",
    "import time\n",
    "from selenium import webdriver\n",
    "from selenium.webdriver.firefox.service import Service\n",
    "from selenium.common.exceptions import WebDriverException\n",
    "from selenium.webdriver.common.keys import Keys\n",
    "from selenium.webdriver.common.by import By\n",
    "import pandas as pd"
   ]
  },
  {
   "cell_type": "markdown",
   "metadata": {},
   "source": [
    "read dataset"
   ]
  },
  {
   "cell_type": "code",
   "execution_count": 2,
   "metadata": {},
   "outputs": [],
   "source": [
    "data=pd.read_csv(\"tour3.csv\")"
   ]
  },
  {
   "cell_type": "code",
   "execution_count": 3,
   "metadata": {},
   "outputs": [],
   "source": [
    "data_a=pd.DataFrame({\n",
    "        'نام':[],\n",
    "        'استان':[],\n",
    "        'شهر':[],\n",
    "        'لینک':[],\n",
    "})"
   ]
  },
  {
   "cell_type": "code",
   "execution_count": null,
   "metadata": {},
   "outputs": [
    {
     "name": "stdout",
     "output_type": "stream",
     "text": [
      "1\n",
      "2\n",
      "3\n",
      "4\n",
      "4\n",
      "4\n",
      "4\n",
      "4\n",
      "4\n",
      "4\n",
      "4\n",
      "4\n",
      "4\n",
      "4\n",
      "4\n",
      "4\n",
      "4\n",
      "4\n",
      "4\n",
      "4\n",
      "4\n",
      "4\n",
      "4\n"
     ]
    }
   ],
   "source": [
    "driver = webdriver.Firefox()\n",
    "for i in range(0,len(data)):\n",
    "    try:\n",
    "        driver.get(str(data.iloc[int(i),2]))\n",
    "        time.sleep(2)\n",
    "        for j in range(1,28):\n",
    "            try:\n",
    "                name=driver.find_element(By.CSS_SELECTOR,f'div.card:nth-child({j}) > div:nth-child(2) > h3:nth-child(1) > a:nth-child(1)')\n",
    "                city=driver.find_element(By.CSS_SELECTOR,f'div.card:nth-child({j}) > div:nth-child(2) > a:nth-child(3) > span:nth-child(1)')\n",
    "                row_data={\n",
    "                    'نام':[name.text],\n",
    "                    'استان':[data.iloc[int(i),1]],\n",
    "                    'شهر':[city.text],\n",
    "                    'لینک':[name.get_attribute('href')],\n",
    "                }\n",
    "                temp_df = pd.DataFrame(row_data)\n",
    "                data_a = pd.concat([data_a, temp_df], ignore_index=True)\n",
    "                print(len(data_a))\n",
    "            except:\n",
    "                break\n",
    "        print(len(data_a))\n",
    "    except:\n",
    "        continue\n",
    "driver.quit()"
   ]
  }
 ],
 "metadata": {
  "kernelspec": {
   "display_name": "Python 3",
   "language": "python",
   "name": "python3"
  },
  "language_info": {
   "codemirror_mode": {
    "name": "ipython",
    "version": 3
   },
   "file_extension": ".py",
   "mimetype": "text/x-python",
   "name": "python",
   "nbconvert_exporter": "python",
   "pygments_lexer": "ipython3",
   "version": "3.12.4"
  }
 },
 "nbformat": 4,
 "nbformat_minor": 2
}
