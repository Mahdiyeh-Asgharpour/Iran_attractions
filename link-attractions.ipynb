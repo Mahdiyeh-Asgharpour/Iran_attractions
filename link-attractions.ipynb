{
 "cells": [
  {
   "cell_type": "code",
   "execution_count": 1,
   "metadata": {},
   "outputs": [],
   "source": [
    "from selenium import webdriver\n",
    "from selenium.webdriver.firefox.service import Service\n",
    "from selenium.common.exceptions import WebDriverException\n",
    "import time\n",
    "from selenium import webdriver\n",
    "from selenium.webdriver.firefox.service import Service\n",
    "from selenium.common.exceptions import WebDriverException\n",
    "from selenium.webdriver.common.keys import Keys\n",
    "from selenium.webdriver.common.by import By\n",
    "import pandas as pd"
   ]
  },
  {
   "cell_type": "markdown",
   "metadata": {},
   "source": [
    "read dataset"
   ]
  },
  {
   "cell_type": "code",
   "execution_count": 4,
   "metadata": {},
   "outputs": [],
   "source": [
    "data=pd.read_csv(\"tour.csv\")"
   ]
  },
  {
   "cell_type": "code",
   "execution_count": 26,
   "metadata": {},
   "outputs": [],
   "source": [
    "data_a=pd.DataFrame({\n",
    "        'نام':[],\n",
    "        # 'استان':[],\n",
    "        # 'شهر':[],\n",
    "        'لینک':[],\n",
    "})"
   ]
  },
  {
   "cell_type": "markdown",
   "metadata": {},
   "source": [
    "crawl"
   ]
  },
  {
   "cell_type": "code",
   "execution_count": 13,
   "metadata": {},
   "outputs": [
    {
     "name": "stdout",
     "output_type": "stream",
     "text": [
      "استان کرمان\n",
      "استان البرز\n",
      "چهارمحال و بختیاری\n",
      "استان بوشهر\n",
      "استان ایلام\n"
     ]
    }
   ],
   "source": [
    "names=[]\n",
    "links=[]\n",
    "\n",
    "for i in range(0,len(data)):\n",
    "    try:\n",
    "        driver = webdriver.Firefox()\n",
    "        driver.get(str(data.iloc[int(i),2]))\n",
    "        time.sleep(2)\n",
    "        link=driver.find_element(By.CSS_SELECTOR,f'div.c-rate:nth-child(5) > div:nth-child(1) > div:nth-child(3) > a:nth-child(1)')\n",
    "        names.append(data.iloc[int(i),1])\n",
    "        links.append(link.get_attribute('href'))\n",
    "        driver.quit()\n",
    "    except:\n",
    "        print(data.iloc[int(i),1])\n",
    "        continue\n"
   ]
  },
  {
   "cell_type": "code",
   "execution_count": null,
   "metadata": {},
   "outputs": [],
   "source": [
    "#debug\n",
    "province_error=['استان کرمان','استان البرز','چهارمحال و بختیاری','استان بوشهر','استان ایلام']\n",
    "for i in range(0,len(data)):\n",
    "    for province in province_error:\n",
    "        if province==data.iloc[int(i),1]:\n",
    "            try:\n",
    "                driver = webdriver.Firefox()\n",
    "                driver.get(str(data.iloc[int(i),2]))\n",
    "                time.sleep(2)\n",
    "                link=driver.find_element(By.CSS_SELECTOR,f'div.c-rate:nth-child(4) > div:nth-child(1) > div:nth-child(3) > a:nth-child(1)')\n",
    "                names.append(data.iloc[int(i),1])\n",
    "                links.append(link.get_attribute('href'))\n",
    "                driver.quit()\n",
    "            except:\n",
    "                print(data.iloc[int(i),1])\n",
    "                continue"
   ]
  },
  {
   "cell_type": "code",
   "execution_count": null,
   "metadata": {},
   "outputs": [
    {
     "data": {
      "text/plain": [
       "31"
      ]
     },
     "execution_count": 21,
     "metadata": {},
     "output_type": "execute_result"
    }
   ],
   "source": [
    "#check\n",
    "len(names)"
   ]
  },
  {
   "cell_type": "markdown",
   "metadata": {},
   "source": [
    "save"
   ]
  },
  {
   "cell_type": "code",
   "execution_count": 27,
   "metadata": {},
   "outputs": [],
   "source": [
    "for i in range(0,len(names)):\n",
    "    row_data={\n",
    "        'نام':[names[int(i)]],\n",
    "        'لینک':[links[int(i)]],\n",
    "    }\n",
    "    temp_df = pd.DataFrame(row_data)\n",
    "    data_a = pd.concat([data_a, temp_df], ignore_index=True)"
   ]
  },
  {
   "cell_type": "code",
   "execution_count": 29,
   "metadata": {},
   "outputs": [],
   "source": [
    "data_a.to_csv('tour2.csv')\n",
    "data_a.to_excel(\"tour2.xlsx\")"
   ]
  }
 ],
 "metadata": {
  "kernelspec": {
   "display_name": "Python 3",
   "language": "python",
   "name": "python3"
  },
  "language_info": {
   "codemirror_mode": {
    "name": "ipython",
    "version": 3
   },
   "file_extension": ".py",
   "mimetype": "text/x-python",
   "name": "python",
   "nbconvert_exporter": "python",
   "pygments_lexer": "ipython3",
   "version": "3.12.4"
  }
 },
 "nbformat": 4,
 "nbformat_minor": 2
}
