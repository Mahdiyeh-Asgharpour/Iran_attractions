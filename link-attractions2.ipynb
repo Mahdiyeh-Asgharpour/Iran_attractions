{
 "cells": [
  {
   "cell_type": "code",
   "execution_count": 1,
   "metadata": {},
   "outputs": [],
   "source": [
    "from selenium import webdriver\n",
    "from selenium.webdriver.firefox.service import Service\n",
    "from selenium.common.exceptions import WebDriverException\n",
    "import time\n",
    "from selenium import webdriver\n",
    "from selenium.webdriver.firefox.service import Service\n",
    "from selenium.common.exceptions import WebDriverException\n",
    "from selenium.webdriver.common.keys import Keys\n",
    "from selenium.webdriver.common.by import By\n",
    "import pandas as pd"
   ]
  },
  {
   "cell_type": "code",
   "execution_count": 2,
   "metadata": {},
   "outputs": [],
   "source": [
    "data=pd.read_csv(\"tour2.csv\")"
   ]
  },
  {
   "cell_type": "code",
   "execution_count": 3,
   "metadata": {},
   "outputs": [],
   "source": [
    "data_a=pd.DataFrame({\n",
    "        'نام':[],\n",
    "        # 'استان':[],\n",
    "        # 'شهر':[],\n",
    "        'لینک':[],\n",
    "})"
   ]
  },
  {
   "cell_type": "code",
   "execution_count": null,
   "metadata": {},
   "outputs": [
    {
     "name": "stdout",
     "output_type": "stream",
     "text": [
      "2\n",
      "3\n",
      "4\n",
      "5\n",
      "6\n",
      "7\n",
      "8\n",
      "9\n",
      "10\n",
      "11\n",
      "12\n",
      "13\n",
      "14\n",
      "15\n",
      "16\n",
      "17\n",
      "18\n",
      "19\n",
      "20\n",
      "21\n",
      "22\n",
      "23\n",
      "24\n",
      "25\n",
      "26\n",
      "27\n",
      "28\n",
      "29\n",
      "30\n",
      "31\n",
      "32\n",
      "33\n",
      "34\n",
      "35\n",
      "36\n",
      "37\n",
      "38\n",
      "39\n",
      "40\n",
      "41\n",
      "42\n",
      "43\n",
      "44\n",
      "45\n",
      "46\n",
      "47\n"
     ]
    }
   ],
   "source": [
    "driver = webdriver.Chrome()\n",
    "for i in range(0,len(data)):\n",
    "    try:\n",
    "        driver.get(str(data.iloc[int(i),2]))\n",
    "        time.sleep(2)\n",
    "        row_data={\n",
    "        'نام':[data.iloc[int(i),1]],\n",
    "        'لینک':[data.iloc[int(i),2]],\n",
    "    }\n",
    "        temp_df = pd.DataFrame(row_data)\n",
    "        data_a = pd.concat([data_a, temp_df], ignore_index=True)\n",
    "        while True:\n",
    "            try:\n",
    "                    click=driver.find_element(By.CSS_SELECTOR,f'.pagination > li:nth-child(7) > a:nth-child(1)')\n",
    "                    next_page=click.get_attribute('href')\n",
    "                    if not next_page:\n",
    "                        break\n",
    "                    click.send_keys(Keys.RETURN)\n",
    "                    # driver.get(str(next_page))\n",
    "                    time.sleep(2)\n",
    "                    row_data={\n",
    "                    'نام':[data.iloc[int(i),1]],\n",
    "                    'لینک':[click.get_attribute('href')],\n",
    "                }\n",
    "                    temp_df = pd.DataFrame(row_data)\n",
    "                    data_a = pd.concat([data_a, temp_df], ignore_index=True)\n",
    "                    print(len(data_a))\n",
    "            except:\n",
    "                driver.quit()\n",
    "                break\n",
    "    except:\n",
    "        driver.quit()\n",
    "        continue\n",
    "driver.quit()"
   ]
  }
 ],
 "metadata": {
  "kernelspec": {
   "display_name": "Python 3",
   "language": "python",
   "name": "python3"
  },
  "language_info": {
   "codemirror_mode": {
    "name": "ipython",
    "version": 3
   },
   "file_extension": ".py",
   "mimetype": "text/x-python",
   "name": "python",
   "nbconvert_exporter": "python",
   "pygments_lexer": "ipython3",
   "version": "3.12.4"
  }
 },
 "nbformat": 4,
 "nbformat_minor": 2
}
